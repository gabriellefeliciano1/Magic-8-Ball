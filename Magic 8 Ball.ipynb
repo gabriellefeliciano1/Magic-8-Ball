{
 "cells": [
  {
   "cell_type": "markdown",
   "metadata": {},
   "source": [
    "# Project Description"
   ]
  },
  {
   "cell_type": "markdown",
   "metadata": {},
   "source": [
    "It's 2020 and all of our lives have just been turned upside down. From COVID-19 to protests for #BlackLivesMatter. What's going to happen next? Will we still be stuck at home til December? There are plenty of questions pooling around, who do we ask?\n",
    "\n",
    "It's simple, we ask The Magic 8 Ball.\n",
    "\n",
    "Simply use the chatbox to ask the Magic 8 Ball a question, any question! The way it works is through a random selection of strings to answer a question (statements ending with a '?').\n",
    "\n",
    "\n",
    "This project was inspired by: https://www.pythonforbeginners.com/code/magic-8-ball-written-in-python"
   ]
  },
  {
   "cell_type": "markdown",
   "metadata": {},
   "source": [
    "## Magic 8 Ball\n",
    "\n",
    "Ask away."
   ]
  },
  {
   "cell_type": "code",
   "execution_count": 1,
   "metadata": {},
   "outputs": [],
   "source": [
    "from my_module.Functions import ask_question, create_answer, lets_shake, something_else"
   ]
  },
  {
   "cell_type": "code",
   "execution_count": 2,
   "metadata": {},
   "outputs": [],
   "source": [
    "import random"
   ]
  },
  {
   "cell_type": "code",
   "execution_count": null,
   "metadata": {},
   "outputs": [],
   "source": [
    "lets_shake()"
   ]
  },
  {
   "cell_type": "markdown",
   "metadata": {},
   "source": [
    "#### Extra Credit (*optional*)\n",
    "\n",
    "Coming into this class, I had no coding experience whatsoever. Prof Ellis taught me everything I know about coding today!  It was a great experience learning something completely new. I learned about the input function and how it gives a nice space for a user to type into a box. It makes it seem very interactive. I challenged myself with learning how to properly test the functions I've written to ensure they work as a unit. It was challenging to find out how to test a function with loops and conditional statements."
   ]
  }
 ],
 "metadata": {
  "kernelspec": {
   "display_name": "Python 3",
   "language": "python",
   "name": "python3"
  },
  "language_info": {
   "codemirror_mode": {
    "name": "ipython",
    "version": 3
   },
   "file_extension": ".py",
   "mimetype": "text/x-python",
   "name": "python",
   "nbconvert_exporter": "python",
   "pygments_lexer": "ipython3",
   "version": "3.7.6"
  }
 },
 "nbformat": 4,
 "nbformat_minor": 2
}
